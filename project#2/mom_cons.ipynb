{
 "cells": [
  {
   "cell_type": "markdown",
   "metadata": {},
   "source": [
    "# Elastic Scattering: Trajectory of Colliding Red and Blue Marbles"
   ]
  },
  {
   "cell_type": "code",
   "execution_count": 81,
   "metadata": {},
   "outputs": [],
   "source": [
    "import numpy as np \n",
    "import math\n",
    "import matplotlib.pyplot as plt"
   ]
  },
  {
   "cell_type": "markdown",
   "metadata": {},
   "source": [
    "* x0B = Positions of the red and blue marbles before (B) the collision in a list.\n",
    "    * x0red = Red marble's initial position\n",
    "    * x0blud = Blue marble's initial position"
   ]
  },
  {
   "cell_type": "code",
   "execution_count": 82,
   "metadata": {},
   "outputs": [],
   "source": [
    "x0red = 10\n",
    "x0blue = -10\n",
    "x0B = np.array([x0red,x0blue])"
   ]
  },
  {
   "cell_type": "markdown",
   "metadata": {},
   "source": [
    "* VB = Initial (Before) velocities of red and blue marbles in 1D. \n",
    "    * VBred = First entry = red marble velocity\n",
    "    * vBblue = Second entry = blue marble velocity"
   ]
  },
  {
   "cell_type": "code",
   "execution_count": 83,
   "metadata": {},
   "outputs": [],
   "source": [
    "vBred = -1.1\n",
    "vBblue = 1.8"
   ]
  },
  {
   "cell_type": "code",
   "execution_count": 84,
   "metadata": {},
   "outputs": [],
   "source": [
    "vB = np.array([vBred,vBblue])"
   ]
  },
  {
   "cell_type": "markdown",
   "metadata": {},
   "source": [
    "* Masses\n",
    "    * mr = red marble mass\n",
    "    * mb = blue marble mass"
   ]
  },
  {
   "cell_type": "code",
   "execution_count": 85,
   "metadata": {},
   "outputs": [],
   "source": [
    "mr = 1\n",
    "mb = 3"
   ]
  },
  {
   "cell_type": "code",
   "execution_count": 86,
   "metadata": {},
   "outputs": [],
   "source": [
    "# Useful combinations for setting up the mass matrix\n",
    "msum = mr + mb\n",
    "mdiff = mr - mb"
   ]
  },
  {
   "cell_type": "code",
   "execution_count": 87,
   "metadata": {},
   "outputs": [],
   "source": [
    "# Mass matrix needed to convert initial velocities to final velocities \n",
    "Mass_matrix = np.array( ((mdiff/msum,2*mb/msum),(2*mr/msum,-mdiff/msum)) )"
   ]
  },
  {
   "cell_type": "code",
   "execution_count": 88,
   "metadata": {},
   "outputs": [
    {
     "name": "stdout",
     "output_type": "stream",
     "text": [
      "[[-0.5  1.5]\n",
      " [ 0.5  0.5]]\n"
     ]
    }
   ],
   "source": [
    "print(Mass_matrix)"
   ]
  },
  {
   "cell_type": "code",
   "execution_count": 89,
   "metadata": {},
   "outputs": [],
   "source": [
    "# The list of final velocities (after velocities) is the mass matrix product with the before velocity.\n",
    "vA = np.dot(Mass_matrix,vB)"
   ]
  },
  {
   "cell_type": "code",
   "execution_count": 90,
   "metadata": {},
   "outputs": [
    {
     "name": "stdout",
     "output_type": "stream",
     "text": [
      "Velocity of Red Marble After Collision= 3.25\n",
      "Velocity of Blue Marble After Collision= 0.35\n"
     ]
    }
   ],
   "source": [
    "print('Velocity of Red Marble After Collision=',vA[0])\n",
    "print('Velocity of Blue Marble After Collision=',vA[1])"
   ]
  },
  {
   "cell_type": "code",
   "execution_count": 91,
   "metadata": {},
   "outputs": [],
   "source": [
    "# Function for getting the positions of constant velocity marbles in 1D, given list of initial positions (x00), \n",
    "# initial velocities (vBB) and a time. \n",
    "def the_pos(x00,vBB,t):\n",
    "    return x00 + vBB*t"
   ]
  },
  {
   "cell_type": "code",
   "execution_count": 92,
   "metadata": {},
   "outputs": [
    {
     "name": "stdout",
     "output_type": "stream",
     "text": [
      "Clock Time At The Collision = 6.896551724137931 sec\n"
     ]
    }
   ],
   "source": [
    "# Find the time from start (t=0) when the collision takes place\n",
    "coll_time = (x0B[0]-x0B[1])/(vB[1]-vB[0])\n",
    "print('Clock Time At The Collision =',coll_time,\"sec\")"
   ]
  },
  {
   "cell_type": "code",
   "execution_count": 93,
   "metadata": {},
   "outputs": [],
   "source": [
    "# Use this to get the position where the collision takes place\n",
    "coll_pos = x0B + vB*coll_time "
   ]
  },
  {
   "cell_type": "code",
   "execution_count": 94,
   "metadata": {},
   "outputs": [
    {
     "data": {
      "text/plain": [
       "array([2.4137931, 2.4137931])"
      ]
     },
     "execution_count": 94,
     "metadata": {},
     "output_type": "execute_result"
    }
   ],
   "source": [
    "coll_pos"
   ]
  },
  {
   "cell_type": "code",
   "execution_count": 95,
   "metadata": {},
   "outputs": [],
   "source": [
    "stepsize = coll_time/100.0\n",
    "t1 = np.arange(0.0,coll_time, stepsize)\n",
    "t2 = np.arange(coll_time-stepsize,2*coll_time, stepsize)\n",
    "red_pos = []\n",
    "blue_pos = []\n",
    "red_posA= []\n",
    "blue_posA = []\n",
    "for t in t1:\n",
    "    red_pos = np.append(red_pos,the_pos(x0B,vB,t)[0])\n",
    "for t in t1:\n",
    "    blue_pos = np.append(blue_pos,the_pos(x0B,vB,t)[1])\n",
    "for t in t2:\n",
    "    red_posA = np.append(red_posA,the_pos(coll_pos[0]-vA[0]*coll_time,vA,t)[0])\n",
    "for t in t2:\n",
    "    blue_posA = np.append(blue_posA,the_pos(coll_pos[1]-vA[1]*coll_time,vA,t)[1])"
   ]
  },
  {
   "cell_type": "code",
   "execution_count": 96,
   "metadata": {},
   "outputs": [
    {
     "data": {
      "image/png": "[encoded data removed]",
      "text/plain": [
       "<Figure size 432x288 with 1 Axes>"
      ]
     },
     "metadata": {
      "needs_background": "light"
     },
     "output_type": "display_data"
    }
   ],
   "source": [
    "plt.plot(t1,red_pos,'r')\n",
    "plt.plot(t1,blue_pos,'b')\n",
    "plt.plot(t2,red_posA,'r')\n",
    "plt.plot(t2,blue_posA,'b')\n",
    "plt.title('Collision of Red and Blue Marbles')\n",
    "plt.xlabel('Time (seconds)')\n",
    "plt.ylabel('Marble Position')\n",
    "plt.legend(['Red Marble','Blue Marble'])\n",
    "\n",
    "plt.tight_layout(pad=0.4, w_pad=6.5, h_pad=1.0)\n",
    "# Save this figure\n",
    "plt.savefig('./marbles.pdf',bbox_inches='tight')"
   ]
  },
  {
   "cell_type": "code",
   "execution_count": null,
   "metadata": {},
   "outputs": [],
   "source": []
  }
 ],
 "metadata": {
  "kernelspec": {
   "display_name": "Python 3",
   "language": "python",
   "name": "python3"
  },
  "language_info": {
   "codemirror_mode": {
    "name": "ipython",
    "version": 3
   },
   "file_extension": ".py",
   "mimetype": "text/x-python",
   "name": "python",
   "nbconvert_exporter": "python",
   "pygments_lexer": "ipython3",
   "version": "3.7.3"
  }
 },
 "nbformat": 4,
 "nbformat_minor": 2
}
